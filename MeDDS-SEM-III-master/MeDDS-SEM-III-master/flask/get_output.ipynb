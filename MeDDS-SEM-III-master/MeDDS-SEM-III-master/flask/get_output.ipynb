{
 "cells": [
  {
   "cell_type": "code",
   "execution_count": 11,
   "metadata": {},
   "outputs": [],
   "source": [
    "import os\n",
    "import pandas as pd\n",
    "import numpy as np \n",
    "import cv2\n",
    "\n",
    "\n",
    "def createmaskimage(imagename,path,lst):\n",
    "    img = np.zeros(1600*256)\n",
    "    for i in lst:\n",
    "        img[i-1]=255\n",
    "    img = np.reshape(img,(1600,256)).T\n",
    "    path = path+\"/\"+imagename\n",
    "    cv2.imwrite(path, img)\n",
    "    return img\n",
    "\n",
    "def createblackimage(imagename,path):\n",
    "  img = np.reshape((np.zeros(1600*256)), (1600,256)).T\n",
    "  path = path+\"/\"+imagename\n",
    "  cv2.imwrite(path, img)\n",
    "  return img\n"
   ]
  },
  {
   "cell_type": "code",
   "execution_count": 5,
   "metadata": {},
   "outputs": [],
   "source": [
    "path='F:/data'"
   ]
  },
  {
   "cell_type": "code",
   "execution_count": 3,
   "metadata": {},
   "outputs": [],
   "source": [
    "df= pd.read_csv(path+'/train.csv')\n",
    "\n",
    "df[['ImageId','ClassId']] = df.ImageId_ClassId.str.split(pat='_',expand=True)\n",
    "\n",
    "df.drop(['ImageId_ClassId'],axis=1)\n",
    "df.to_csv('train2.csv')"
   ]
  },
  {
   "cell_type": "code",
   "execution_count": 6,
   "metadata": {},
   "outputs": [
    {
     "name": "stdout",
     "output_type": "stream",
     "text": [
      "50272\n"
     ]
    }
   ],
   "source": [
    "df= pd.read_csv(path+'/train2.csv')\n",
    "df['EncodedPixels'] = df['EncodedPixels'].replace(np.nan, \"na\")\n",
    "count_row = df.shape[0]\n",
    "print(count_row)"
   ]
  },
  {
   "cell_type": "code",
   "execution_count": 7,
   "metadata": {},
   "outputs": [
    {
     "data": {
      "text/html": [
       "<div>\n",
       "<style scoped>\n",
       "    .dataframe tbody tr th:only-of-type {\n",
       "        vertical-align: middle;\n",
       "    }\n",
       "\n",
       "    .dataframe tbody tr th {\n",
       "        vertical-align: top;\n",
       "    }\n",
       "\n",
       "    .dataframe thead th {\n",
       "        text-align: right;\n",
       "    }\n",
       "</style>\n",
       "<table border=\"1\" class=\"dataframe\">\n",
       "  <thead>\n",
       "    <tr style=\"text-align: right;\">\n",
       "      <th></th>\n",
       "      <th>Unnamed: 0</th>\n",
       "      <th>ImageId_ClassId</th>\n",
       "      <th>EncodedPixels</th>\n",
       "      <th>ImageId</th>\n",
       "      <th>ClassId</th>\n",
       "    </tr>\n",
       "  </thead>\n",
       "  <tbody>\n",
       "    <tr>\n",
       "      <th>0</th>\n",
       "      <td>0</td>\n",
       "      <td>0002cc93b.jpg_1</td>\n",
       "      <td>29102 12 29346 24 29602 24 29858 24 30114 24 3...</td>\n",
       "      <td>0002cc93b.jpg</td>\n",
       "      <td>1</td>\n",
       "    </tr>\n",
       "    <tr>\n",
       "      <th>1</th>\n",
       "      <td>1</td>\n",
       "      <td>0002cc93b.jpg_2</td>\n",
       "      <td>na</td>\n",
       "      <td>0002cc93b.jpg</td>\n",
       "      <td>2</td>\n",
       "    </tr>\n",
       "    <tr>\n",
       "      <th>2</th>\n",
       "      <td>2</td>\n",
       "      <td>0002cc93b.jpg_3</td>\n",
       "      <td>na</td>\n",
       "      <td>0002cc93b.jpg</td>\n",
       "      <td>3</td>\n",
       "    </tr>\n",
       "    <tr>\n",
       "      <th>3</th>\n",
       "      <td>3</td>\n",
       "      <td>0002cc93b.jpg_4</td>\n",
       "      <td>na</td>\n",
       "      <td>0002cc93b.jpg</td>\n",
       "      <td>4</td>\n",
       "    </tr>\n",
       "    <tr>\n",
       "      <th>4</th>\n",
       "      <td>4</td>\n",
       "      <td>00031f466.jpg_1</td>\n",
       "      <td>na</td>\n",
       "      <td>00031f466.jpg</td>\n",
       "      <td>1</td>\n",
       "    </tr>\n",
       "  </tbody>\n",
       "</table>\n",
       "</div>"
      ],
      "text/plain": [
       "   Unnamed: 0  ImageId_ClassId  \\\n",
       "0           0  0002cc93b.jpg_1   \n",
       "1           1  0002cc93b.jpg_2   \n",
       "2           2  0002cc93b.jpg_3   \n",
       "3           3  0002cc93b.jpg_4   \n",
       "4           4  00031f466.jpg_1   \n",
       "\n",
       "                                       EncodedPixels        ImageId  ClassId  \n",
       "0  29102 12 29346 24 29602 24 29858 24 30114 24 3...  0002cc93b.jpg        1  \n",
       "1                                                 na  0002cc93b.jpg        2  \n",
       "2                                                 na  0002cc93b.jpg        3  \n",
       "3                                                 na  0002cc93b.jpg        4  \n",
       "4                                                 na  00031f466.jpg        1  "
      ]
     },
     "execution_count": 7,
     "metadata": {},
     "output_type": "execute_result"
    }
   ],
   "source": [
    "df.head()"
   ]
  },
  {
   "cell_type": "code",
   "execution_count": 10,
   "metadata": {},
   "outputs": [],
   "source": [
    "d=df[df.apply(lambda r: r.str.contains('0002cc93b.jpg', case=False).any(), axis=1)] "
   ]
  },
  {
   "cell_type": "code",
   "execution_count": 15,
   "metadata": {},
   "outputs": [
    {
     "data": {
      "text/html": [
       "<div>\n",
       "<style scoped>\n",
       "    .dataframe tbody tr th:only-of-type {\n",
       "        vertical-align: middle;\n",
       "    }\n",
       "\n",
       "    .dataframe tbody tr th {\n",
       "        vertical-align: top;\n",
       "    }\n",
       "\n",
       "    .dataframe thead th {\n",
       "        text-align: right;\n",
       "    }\n",
       "</style>\n",
       "<table border=\"1\" class=\"dataframe\">\n",
       "  <thead>\n",
       "    <tr style=\"text-align: right;\">\n",
       "      <th></th>\n",
       "      <th>Unnamed: 0</th>\n",
       "      <th>ImageId_ClassId</th>\n",
       "      <th>EncodedPixels</th>\n",
       "      <th>ImageId</th>\n",
       "      <th>ClassId</th>\n",
       "    </tr>\n",
       "  </thead>\n",
       "  <tbody>\n",
       "    <tr>\n",
       "      <th>0</th>\n",
       "      <td>0</td>\n",
       "      <td>0002cc93b.jpg_1</td>\n",
       "      <td>29102 12 29346 24 29602 24 29858 24 30114 24 3...</td>\n",
       "      <td>0002cc93b.jpg</td>\n",
       "      <td>1</td>\n",
       "    </tr>\n",
       "    <tr>\n",
       "      <th>1</th>\n",
       "      <td>1</td>\n",
       "      <td>0002cc93b.jpg_2</td>\n",
       "      <td>na</td>\n",
       "      <td>0002cc93b.jpg</td>\n",
       "      <td>2</td>\n",
       "    </tr>\n",
       "    <tr>\n",
       "      <th>2</th>\n",
       "      <td>2</td>\n",
       "      <td>0002cc93b.jpg_3</td>\n",
       "      <td>na</td>\n",
       "      <td>0002cc93b.jpg</td>\n",
       "      <td>3</td>\n",
       "    </tr>\n",
       "    <tr>\n",
       "      <th>3</th>\n",
       "      <td>3</td>\n",
       "      <td>0002cc93b.jpg_4</td>\n",
       "      <td>na</td>\n",
       "      <td>0002cc93b.jpg</td>\n",
       "      <td>4</td>\n",
       "    </tr>\n",
       "  </tbody>\n",
       "</table>\n",
       "</div>"
      ],
      "text/plain": [
       "   Unnamed: 0  ImageId_ClassId  \\\n",
       "0           0  0002cc93b.jpg_1   \n",
       "1           1  0002cc93b.jpg_2   \n",
       "2           2  0002cc93b.jpg_3   \n",
       "3           3  0002cc93b.jpg_4   \n",
       "\n",
       "                                       EncodedPixels        ImageId  ClassId  \n",
       "0  29102 12 29346 24 29602 24 29858 24 30114 24 3...  0002cc93b.jpg        1  \n",
       "1                                                 na  0002cc93b.jpg        2  \n",
       "2                                                 na  0002cc93b.jpg        3  \n",
       "3                                                 na  0002cc93b.jpg        4  "
      ]
     },
     "execution_count": 15,
     "metadata": {},
     "output_type": "execute_result"
    }
   ],
   "source": [
    "d"
   ]
  },
  {
   "cell_type": "code",
   "execution_count": 14,
   "metadata": {},
   "outputs": [
    {
     "name": "stdout",
     "output_type": "stream",
     "text": [
      "0\n",
      "1\n",
      "2\n",
      "3\n"
     ]
    }
   ],
   "source": [
    "path_out = 'E:\\CSE-Project\\flask\\out'\n",
    "for n in range(d.shape[0]):\n",
    "    print(n)\n",
    "    imagename=d['ImageId'][n]\n",
    "    folder=int(d['ClassId'][n])\n",
    "    maskpix = d['EncodedPixels'][n]\n",
    "    \n",
    "    if (maskpix != 'na'):\n",
    "        lst=[int(i) for i in maskpix.split()]\n",
    "        lstn=np.arange(lst[0],lst[0]+lst[1])\n",
    "\n",
    "        for i in range(2,len(lst),2):\n",
    "            x=np.arange(lst[i],lst[i]+lst[i+1])\n",
    "            lstn = np.append(lstn, x)\n",
    "        for i in lstn:\n",
    "#             print(i)\n",
    "            img=createmaskimage(imagename,(path_out+'/'+str(folder)),lstn)\n",
    "    else:\n",
    "#         continue\n",
    "        img=createblackimage(imagename,(path_out+'/'+str(folder)))\n"
   ]
  },
  {
   "cell_type": "code",
   "execution_count": null,
   "metadata": {},
   "outputs": [],
   "source": []
  }
 ],
 "metadata": {
  "kernelspec": {
   "display_name": "Python 3",
   "language": "python",
   "name": "python3"
  },
  "language_info": {
   "codemirror_mode": {
    "name": "ipython",
    "version": 3
   },
   "file_extension": ".py",
   "mimetype": "text/x-python",
   "name": "python",
   "nbconvert_exporter": "python",
   "pygments_lexer": "ipython3",
   "version": "3.5.6"
  }
 },
 "nbformat": 4,
 "nbformat_minor": 2
}
